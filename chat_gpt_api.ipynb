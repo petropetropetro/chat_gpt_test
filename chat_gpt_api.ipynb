{
 "cells": [
  {
   "cell_type": "code",
   "execution_count": 1,
   "metadata": {},
   "outputs": [],
   "source": [
    "import openai\n",
    "openai.api_key = open(\"key.txt\",\"r\").read().strip('\\n')\n",
    "completion = openai.ChatCompletion.create(model=\"gpt-3.5-turbo\", messages=[{\"role\":\"user\", \"content\":\"Distance to moon\"}])"
   ]
  },
  {
   "cell_type": "code",
   "execution_count": 2,
   "metadata": {},
   "outputs": [
    {
     "name": "stdout",
     "output_type": "stream",
     "text": [
      "{\n",
      "  \"choices\": [\n",
      "    {\n",
      "      \"finish_reason\": null,\n",
      "      \"index\": 0,\n",
      "      \"message\": {\n",
      "        \"content\": \"\\n\\nThe distance to the moon from the Earth varies depending on its position in orbit. On average, the moon is about 238,855 miles (384,400 kilometers) away from Earth.\",\n",
      "        \"role\": \"assistant\"\n",
      "      }\n",
      "    }\n",
      "  ],\n",
      "  \"created\": 1678470211,\n",
      "  \"id\": \"chatcmpl-6sb47JeKeBnadf1U71QnqIUiogEkc\",\n",
      "  \"model\": \"gpt-3.5-turbo-0301\",\n",
      "  \"object\": \"chat.completion\",\n",
      "  \"usage\": {\n",
      "    \"completion_tokens\": 40,\n",
      "    \"prompt_tokens\": 10,\n",
      "    \"total_tokens\": 50\n",
      "  }\n",
      "}\n"
     ]
    }
   ],
   "source": [
    "print(completion)"
   ]
  },
  {
   "cell_type": "code",
   "execution_count": 3,
   "metadata": {},
   "outputs": [],
   "source": [
    "reply_content = completion.choices[0].message.content"
   ]
  },
  {
   "cell_type": "code",
   "execution_count": 4,
   "metadata": {},
   "outputs": [
    {
     "name": "stdout",
     "output_type": "stream",
     "text": [
      "\n",
      "\n",
      "The distance to the moon from the Earth varies depending on its position in orbit. On average, the moon is about 238,855 miles (384,400 kilometers) away from Earth.\n"
     ]
    }
   ],
   "source": [
    "print(reply_content)"
   ]
  },
  {
   "cell_type": "code",
   "execution_count": 5,
   "metadata": {},
   "outputs": [
    {
     "name": "stdout",
     "output_type": "stream",
     "text": [
      "User's input was  Distance to moon\n"
     ]
    }
   ],
   "source": [
    "message_history = []\n",
    "user_input = input(\">: \")\n",
    "print(\"User's input was \", user_input)\n"
   ]
  },
  {
   "cell_type": "code",
   "execution_count": 6,
   "metadata": {},
   "outputs": [],
   "source": [
    "message_history.append({\"role\": \"user\", 'content': user_input})"
   ]
  },
  {
   "cell_type": "code",
   "execution_count": 7,
   "metadata": {},
   "outputs": [
    {
     "name": "stdout",
     "output_type": "stream",
     "text": [
      "\n",
      "\n",
      "The average distance from the Earth to the moon is about 238,900 miles (384,400 kilometers). However, this distance can vary slightly due to the elliptical shape of the moon's orbit around the Earth. At its closest point (perigee), the moon can be about 225,623 miles (363,104 kilometers) away from Earth, while at its furthest point (apogee), it can be up to 251,088 miles (405,696 kilometers) away.\n"
     ]
    }
   ],
   "source": [
    "completion = openai.ChatCompletion.create(model=\"gpt-3.5-turbo\", messages=[{\"role\":\"user\", \"content\":\"Distance to moon\"}])\n",
    "reply_content = completion.choices[0].message.content\n",
    "print(reply_content)"
   ]
  },
  {
   "cell_type": "code",
   "execution_count": null,
   "metadata": {},
   "outputs": [],
   "source": [
    "message_history.append({\"role\": \"assistant\", 'content': reply_content})"
   ]
  },
  {
   "cell_type": "code",
   "execution_count": 8,
   "metadata": {},
   "outputs": [
    {
     "name": "stdout",
     "output_type": "stream",
     "text": [
      "{\n",
      "  \"choices\": [\n",
      "    {\n",
      "      \"finish_reason\": null,\n",
      "      \"index\": 0,\n",
      "      \"message\": {\n",
      "        \"content\": \"\\n\\nThe average distance from the Earth to the moon is about 238,900 miles (384,400 kilometers). However, this distance can vary slightly due to the elliptical shape of the moon's orbit around the Earth. At its closest point (perigee), the moon can be about 225,623 miles (363,104 kilometers) away from Earth, while at its furthest point (apogee), it can be up to 251,088 miles (405,696 kilometers) away.\",\n",
      "        \"role\": \"assistant\"\n",
      "      }\n",
      "    }\n",
      "  ],\n",
      "  \"created\": 1678470557,\n",
      "  \"id\": \"chatcmpl-6sb9hPmYrQEU3ZqLuloZ1iV73xZ5P\",\n",
      "  \"model\": \"gpt-3.5-turbo-0301\",\n",
      "  \"object\": \"chat.completion\",\n",
      "  \"usage\": {\n",
      "    \"completion_tokens\": 104,\n",
      "    \"prompt_tokens\": 10,\n",
      "    \"total_tokens\": 114\n",
      "  }\n",
      "}\n"
     ]
    }
   ],
   "source": [
    "print(completion)"
   ]
  }
 ],
 "metadata": {
  "kernelspec": {
   "display_name": "tensorflow_2",
   "language": "python",
   "name": "tensorflow_2"
  },
  "language_info": {
   "codemirror_mode": {
    "name": "ipython",
    "version": 3
   },
   "file_extension": ".py",
   "mimetype": "text/x-python",
   "name": "python",
   "nbconvert_exporter": "python",
   "pygments_lexer": "ipython3",
   "version": "3.8.13"
  },
  "orig_nbformat": 4
 },
 "nbformat": 4,
 "nbformat_minor": 2
}
